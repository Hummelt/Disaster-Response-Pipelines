ETL Pipeline Preparation
Follow the instructions below to help you create your ETL pipeline.

1. Import libraries and load datasets.
Import Python libraries
Load messages.csv into a dataframe and inspect the first few lines.
Load categories.csv into a dataframe and inspect the first few lines.
In [1]:
# import libraries
import pandas as pd
from sqlalchemy import create_engine
In [2]:
# load messages dataset
messages = pd.read_csv('../data/disaster_messages.csv')
messages.head()
Out[2]:
id	message	original	genre
0	2	Weather update - a cold front from Cuba that c...	Un front froid se retrouve sur Cuba ce matin. ...	direct
1	7	Is the Hurricane over or is it not over	Cyclone nan fini osinon li pa fini	direct
2	8	Looking for someone but no name	Patnm, di Maryani relem pou li banm nouvel li ...	direct
3	9	UN reports Leogane 80-90 destroyed. Only Hospi...	UN reports Leogane 80-90 destroyed. Only Hospi...	direct
4	12	says: west side of Haiti, rest of the country ...	facade ouest d Haiti et le reste du pays aujou...	direct
In [3]:
messages.info()
<class 'pandas.core.frame.DataFrame'>
RangeIndex: 26248 entries, 0 to 26247
Data columns (total 4 columns):
 #   Column    Non-Null Count  Dtype 
---  ------    --------------  ----- 
 0   id        26248 non-null  int64 
 1   message   26248 non-null  object
 2   original  10184 non-null  object
 3   genre     26248 non-null  object
dtypes: int64(1), object(3)
memory usage: 820.4+ KB
In [4]:
# load categories dataset
categories = pd.read_csv('../data/disaster_categories.csv')
categories.head()
Out[4]:
id	categories
0	2	related-1;request-0;offer-0;aid_related-0;medi...
1	7	related-1;request-0;offer-0;aid_related-1;medi...
2	8	related-1;request-0;offer-0;aid_related-0;medi...
3	9	related-1;request-1;offer-0;aid_related-1;medi...
4	12	related-1;request-0;offer-0;aid_related-0;medi...
In [5]:
categories.info()
<class 'pandas.core.frame.DataFrame'>
RangeIndex: 26248 entries, 0 to 26247
Data columns (total 2 columns):
 #   Column      Non-Null Count  Dtype 
---  ------      --------------  ----- 
 0   id          26248 non-null  int64 
 1   categories  26248 non-null  object
dtypes: int64(1), object(1)
memory usage: 410.2+ KB
In [6]:
# Checking if 'id' columns match
(categories['id'] != messages['id']).sum()
Out[6]:
0
2. Merge datasets.
Merge the messages and categories datasets using the common id
Assign this combined dataset to df, which will be cleaned in the following steps
In [7]:
# merge datasets
df = messages.merge(categories, on='id')
df.head()
Out[7]:
id	message	original	genre	categories
0	2	Weather update - a cold front from Cuba that c...	Un front froid se retrouve sur Cuba ce matin. ...	direct	related-1;request-0;offer-0;aid_related-0;medi...
1	7	Is the Hurricane over or is it not over	Cyclone nan fini osinon li pa fini	direct	related-1;request-0;offer-0;aid_related-1;medi...
2	8	Looking for someone but no name	Patnm, di Maryani relem pou li banm nouvel li ...	direct	related-1;request-0;offer-0;aid_related-0;medi...
3	9	UN reports Leogane 80-90 destroyed. Only Hospi...	UN reports Leogane 80-90 destroyed. Only Hospi...	direct	related-1;request-1;offer-0;aid_related-1;medi...
4	12	says: west side of Haiti, rest of the country ...	facade ouest d Haiti et le reste du pays aujou...	direct	related-1;request-0;offer-0;aid_related-0;medi...
In [8]:
df.info()
<class 'pandas.core.frame.DataFrame'>
Int64Index: 26386 entries, 0 to 26385
Data columns (total 5 columns):
 #   Column      Non-Null Count  Dtype 
---  ------      --------------  ----- 
 0   id          26386 non-null  int64 
 1   message     26386 non-null  object
 2   original    10246 non-null  object
 3   genre       26386 non-null  object
 4   categories  26386 non-null  object
dtypes: int64(1), object(4)
memory usage: 1.2+ MB
Why are there more entries after merging? Are there duplicates?
In [9]:
df.duplicated().sum()
Out[9]:
170
170 Entries are double. I need to take care of this downstream.

3. Split categories into separate category columns.
Split the values in the categories column on the ; character so that each value becomes a separate column. You'll find this method very helpful! Make sure to set expand=True.
Use the first row of categories dataframe to create column names for the categories data.
Rename columns of categories with new column names.
In [10]:
categories
Out[10]:
id	categories
0	2	related-1;request-0;offer-0;aid_related-0;medi...
1	7	related-1;request-0;offer-0;aid_related-1;medi...
2	8	related-1;request-0;offer-0;aid_related-0;medi...
3	9	related-1;request-1;offer-0;aid_related-1;medi...
4	12	related-1;request-0;offer-0;aid_related-0;medi...
...	...	...
26243	30261	related-0;request-0;offer-0;aid_related-0;medi...
26244	30262	related-0;request-0;offer-0;aid_related-0;medi...
26245	30263	related-1;request-0;offer-0;aid_related-0;medi...
26246	30264	related-1;request-0;offer-0;aid_related-1;medi...
26247	30265	related-1;request-0;offer-0;aid_related-0;medi...
26248 rows × 2 columns

In [11]:
# create a dataframe of the 36 individual category columns
categories = categories['categories'].str.split(';', expand = True)
cols = categories.iloc[0].str.split('-').str[0]
categories.columns = cols
categories.head()
Out[11]:
related	request	offer	aid_related	medical_help	medical_products	search_and_rescue	security	military	child_alone	...	aid_centers	other_infrastructure	weather_related	floods	storm	fire	earthquake	cold	other_weather	direct_report
0	related-1	request-0	offer-0	aid_related-0	medical_help-0	medical_products-0	search_and_rescue-0	security-0	military-0	child_alone-0	...	aid_centers-0	other_infrastructure-0	weather_related-0	floods-0	storm-0	fire-0	earthquake-0	cold-0	other_weather-0	direct_report-0
1	related-1	request-0	offer-0	aid_related-1	medical_help-0	medical_products-0	search_and_rescue-0	security-0	military-0	child_alone-0	...	aid_centers-0	other_infrastructure-0	weather_related-1	floods-0	storm-1	fire-0	earthquake-0	cold-0	other_weather-0	direct_report-0
2	related-1	request-0	offer-0	aid_related-0	medical_help-0	medical_products-0	search_and_rescue-0	security-0	military-0	child_alone-0	...	aid_centers-0	other_infrastructure-0	weather_related-0	floods-0	storm-0	fire-0	earthquake-0	cold-0	other_weather-0	direct_report-0
3	related-1	request-1	offer-0	aid_related-1	medical_help-0	medical_products-1	search_and_rescue-0	security-0	military-0	child_alone-0	...	aid_centers-0	other_infrastructure-0	weather_related-0	floods-0	storm-0	fire-0	earthquake-0	cold-0	other_weather-0	direct_report-0
4	related-1	request-0	offer-0	aid_related-0	medical_help-0	medical_products-0	search_and_rescue-0	security-0	military-0	child_alone-0	...	aid_centers-0	other_infrastructure-0	weather_related-0	floods-0	storm-0	fire-0	earthquake-0	cold-0	other_weather-0	direct_report-0
5 rows × 36 columns

4. Convert category values to just numbers 0 or 1.
Iterate through the category columns in df to keep only the last character of each string (the 1 or 0). For example, related-0 becomes 0, related-1 becomes 1. Convert the string to a numeric value.
You can perform normal string actions on Pandas Series, like indexing, by including .str after the Series. You may need to first convert the Series to be of type string, which you can do with astype(str).
In [12]:
for column in categories:
    # set each value to be the last character of the string
    categories[column] = categories[column].astype(str).str[-1]
    
    # convert column from string to numeric
    categories[column] = categories[column].astype(int)
    categories[column].loc[categories[column] > 0] = 1
    #categories[column] = categories[column].astype(int)
categories.head()
Out[12]:
related	request	offer	aid_related	medical_help	medical_products	search_and_rescue	security	military	child_alone	...	aid_centers	other_infrastructure	weather_related	floods	storm	fire	earthquake	cold	other_weather	direct_report
0	1	0	0	0	0	0	0	0	0	0	...	0	0	0	0	0	0	0	0	0	0
1	1	0	0	1	0	0	0	0	0	0	...	0	0	1	0	1	0	0	0	0	0
2	1	0	0	0	0	0	0	0	0	0	...	0	0	0	0	0	0	0	0	0	0
3	1	1	0	1	0	1	0	0	0	0	...	0	0	0	0	0	0	0	0	0	0
4	1	0	0	0	0	0	0	0	0	0	...	0	0	0	0	0	0	0	0	0	0
5 rows × 36 columns

In [13]:
categories['related'].value_counts()
Out[13]:
1    20123
0     6125
Name: related, dtype: int64
5. Replace categories column in df with new category columns.
Drop the categories column from the df dataframe since it is no longer needed.
Concatenate df and categories data frames.
In [14]:
categories.info()
<class 'pandas.core.frame.DataFrame'>
RangeIndex: 26248 entries, 0 to 26247
Data columns (total 36 columns):
 #   Column                  Non-Null Count  Dtype
---  ------                  --------------  -----
 0   related                 26248 non-null  int32
 1   request                 26248 non-null  int32
 2   offer                   26248 non-null  int32
 3   aid_related             26248 non-null  int32
 4   medical_help            26248 non-null  int32
 5   medical_products        26248 non-null  int32
 6   search_and_rescue       26248 non-null  int32
 7   security                26248 non-null  int32
 8   military                26248 non-null  int32
 9   child_alone             26248 non-null  int32
 10  water                   26248 non-null  int32
 11  food                    26248 non-null  int32
 12  shelter                 26248 non-null  int32
 13  clothing                26248 non-null  int32
 14  money                   26248 non-null  int32
 15  missing_people          26248 non-null  int32
 16  refugees                26248 non-null  int32
 17  death                   26248 non-null  int32
 18  other_aid               26248 non-null  int32
 19  infrastructure_related  26248 non-null  int32
 20  transport               26248 non-null  int32
 21  buildings               26248 non-null  int32
 22  electricity             26248 non-null  int32
 23  tools                   26248 non-null  int32
 24  hospitals               26248 non-null  int32
 25  shops                   26248 non-null  int32
 26  aid_centers             26248 non-null  int32
 27  other_infrastructure    26248 non-null  int32
 28  weather_related         26248 non-null  int32
 29  floods                  26248 non-null  int32
 30  storm                   26248 non-null  int32
 31  fire                    26248 non-null  int32
 32  earthquake              26248 non-null  int32
 33  cold                    26248 non-null  int32
 34  other_weather           26248 non-null  int32
 35  direct_report           26248 non-null  int32
dtypes: int32(36)
memory usage: 3.6 MB
In [15]:
df.info()
<class 'pandas.core.frame.DataFrame'>
Int64Index: 26386 entries, 0 to 26385
Data columns (total 5 columns):
 #   Column      Non-Null Count  Dtype 
---  ------      --------------  ----- 
 0   id          26386 non-null  int64 
 1   message     26386 non-null  object
 2   original    10246 non-null  object
 3   genre       26386 non-null  object
 4   categories  26386 non-null  object
dtypes: int64(1), object(4)
memory usage: 1.2+ MB
In [16]:
# concatenate the original dataframe with the new `categories` dataframe
df = pd.concat([df, categories], axis = 1)
df.head()
Out[16]:
id	message	original	genre	categories	related	request	offer	aid_related	medical_help	...	aid_centers	other_infrastructure	weather_related	floods	storm	fire	earthquake	cold	other_weather	direct_report
0	2	Weather update - a cold front from Cuba that c...	Un front froid se retrouve sur Cuba ce matin. ...	direct	related-1;request-0;offer-0;aid_related-0;medi...	1.0	0.0	0.0	0.0	0.0	...	0.0	0.0	0.0	0.0	0.0	0.0	0.0	0.0	0.0	0.0
1	7	Is the Hurricane over or is it not over	Cyclone nan fini osinon li pa fini	direct	related-1;request-0;offer-0;aid_related-1;medi...	1.0	0.0	0.0	1.0	0.0	...	0.0	0.0	1.0	0.0	1.0	0.0	0.0	0.0	0.0	0.0
2	8	Looking for someone but no name	Patnm, di Maryani relem pou li banm nouvel li ...	direct	related-1;request-0;offer-0;aid_related-0;medi...	1.0	0.0	0.0	0.0	0.0	...	0.0	0.0	0.0	0.0	0.0	0.0	0.0	0.0	0.0	0.0
3	9	UN reports Leogane 80-90 destroyed. Only Hospi...	UN reports Leogane 80-90 destroyed. Only Hospi...	direct	related-1;request-1;offer-0;aid_related-1;medi...	1.0	1.0	0.0	1.0	0.0	...	0.0	0.0	0.0	0.0	0.0	0.0	0.0	0.0	0.0	0.0
4	12	says: west side of Haiti, rest of the country ...	facade ouest d Haiti et le reste du pays aujou...	direct	related-1;request-0;offer-0;aid_related-0;medi...	1.0	0.0	0.0	0.0	0.0	...	0.0	0.0	0.0	0.0	0.0	0.0	0.0	0.0	0.0	0.0
5 rows × 41 columns

In [17]:
df.drop('categories', axis = 1, inplace = True)
In [18]:
df.info()
<class 'pandas.core.frame.DataFrame'>
Int64Index: 26386 entries, 0 to 26385
Data columns (total 40 columns):
 #   Column                  Non-Null Count  Dtype  
---  ------                  --------------  -----  
 0   id                      26386 non-null  int64  
 1   message                 26386 non-null  object 
 2   original                10246 non-null  object 
 3   genre                   26386 non-null  object 
 4   related                 26248 non-null  float64
 5   request                 26248 non-null  float64
 6   offer                   26248 non-null  float64
 7   aid_related             26248 non-null  float64
 8   medical_help            26248 non-null  float64
 9   medical_products        26248 non-null  float64
 10  search_and_rescue       26248 non-null  float64
 11  security                26248 non-null  float64
 12  military                26248 non-null  float64
 13  child_alone             26248 non-null  float64
 14  water                   26248 non-null  float64
 15  food                    26248 non-null  float64
 16  shelter                 26248 non-null  float64
 17  clothing                26248 non-null  float64
 18  money                   26248 non-null  float64
 19  missing_people          26248 non-null  float64
 20  refugees                26248 non-null  float64
 21  death                   26248 non-null  float64
 22  other_aid               26248 non-null  float64
 23  infrastructure_related  26248 non-null  float64
 24  transport               26248 non-null  float64
 25  buildings               26248 non-null  float64
 26  electricity             26248 non-null  float64
 27  tools                   26248 non-null  float64
 28  hospitals               26248 non-null  float64
 29  shops                   26248 non-null  float64
 30  aid_centers             26248 non-null  float64
 31  other_infrastructure    26248 non-null  float64
 32  weather_related         26248 non-null  float64
 33  floods                  26248 non-null  float64
 34  storm                   26248 non-null  float64
 35  fire                    26248 non-null  float64
 36  earthquake              26248 non-null  float64
 37  cold                    26248 non-null  float64
 38  other_weather           26248 non-null  float64
 39  direct_report           26248 non-null  float64
dtypes: float64(36), int64(1), object(3)
memory usage: 8.3+ MB
Two issues:

1) 138 messages don't have flagged categories => I will remove these

2) The category flag format switched from int to float for some reason. => I will re-format

In [19]:
# Checking examples where information is missing in the categories
df[df['related'].isna()]
Out[19]:
id	message	original	genre	related	request	offer	aid_related	medical_help	medical_products	...	aid_centers	other_infrastructure	weather_related	floods	storm	fire	earthquake	cold	other_weather	direct_report
26248	30112	The 1 July meeting of the Support and Follow-u...	NaN	news	NaN	NaN	NaN	NaN	NaN	NaN	...	NaN	NaN	NaN	NaN	NaN	NaN	NaN	NaN	NaN	NaN
26249	30113	Japan's overseas missions are accepting relief...	NaN	news	NaN	NaN	NaN	NaN	NaN	NaN	...	NaN	NaN	NaN	NaN	NaN	NaN	NaN	NaN	NaN	NaN
26250	30114	According to officials, Kabul River and Swat R...	NaN	news	NaN	NaN	NaN	NaN	NaN	NaN	...	NaN	NaN	NaN	NaN	NaN	NaN	NaN	NaN	NaN	NaN
26251	30115	The gross relief food requirements for June-De...	NaN	news	NaN	NaN	NaN	NaN	NaN	NaN	...	NaN	NaN	NaN	NaN	NaN	NaN	NaN	NaN	NaN	NaN
26252	30116	Authorities have built tent compounds in flatt...	NaN	news	NaN	NaN	NaN	NaN	NaN	NaN	...	NaN	NaN	NaN	NaN	NaN	NaN	NaN	NaN	NaN	NaN
...	...	...	...	...	...	...	...	...	...	...	...	...	...	...	...	...	...	...	...	...	...
26381	30261	The training demonstrated how to enhance micro...	NaN	news	NaN	NaN	NaN	NaN	NaN	NaN	...	NaN	NaN	NaN	NaN	NaN	NaN	NaN	NaN	NaN	NaN
26382	30262	A suitable candidate has been selected and OCH...	NaN	news	NaN	NaN	NaN	NaN	NaN	NaN	...	NaN	NaN	NaN	NaN	NaN	NaN	NaN	NaN	NaN	NaN
26383	30263	Proshika, operating in Cox's Bazar municipalit...	NaN	news	NaN	NaN	NaN	NaN	NaN	NaN	...	NaN	NaN	NaN	NaN	NaN	NaN	NaN	NaN	NaN	NaN
26384	30264	Some 2,000 women protesting against the conduc...	NaN	news	NaN	NaN	NaN	NaN	NaN	NaN	...	NaN	NaN	NaN	NaN	NaN	NaN	NaN	NaN	NaN	NaN
26385	30265	A radical shift in thinking came about as a re...	NaN	news	NaN	NaN	NaN	NaN	NaN	NaN	...	NaN	NaN	NaN	NaN	NaN	NaN	NaN	NaN	NaN	NaN
138 rows × 40 columns

In [20]:
# Dropping all rows where categories have no entry
df = df[df['related'].notna()]
In [21]:
df.info()
<class 'pandas.core.frame.DataFrame'>
Int64Index: 26248 entries, 0 to 26247
Data columns (total 40 columns):
 #   Column                  Non-Null Count  Dtype  
---  ------                  --------------  -----  
 0   id                      26248 non-null  int64  
 1   message                 26248 non-null  object 
 2   original                10246 non-null  object 
 3   genre                   26248 non-null  object 
 4   related                 26248 non-null  float64
 5   request                 26248 non-null  float64
 6   offer                   26248 non-null  float64
 7   aid_related             26248 non-null  float64
 8   medical_help            26248 non-null  float64
 9   medical_products        26248 non-null  float64
 10  search_and_rescue       26248 non-null  float64
 11  security                26248 non-null  float64
 12  military                26248 non-null  float64
 13  child_alone             26248 non-null  float64
 14  water                   26248 non-null  float64
 15  food                    26248 non-null  float64
 16  shelter                 26248 non-null  float64
 17  clothing                26248 non-null  float64
 18  money                   26248 non-null  float64
 19  missing_people          26248 non-null  float64
 20  refugees                26248 non-null  float64
 21  death                   26248 non-null  float64
 22  other_aid               26248 non-null  float64
 23  infrastructure_related  26248 non-null  float64
 24  transport               26248 non-null  float64
 25  buildings               26248 non-null  float64
 26  electricity             26248 non-null  float64
 27  tools                   26248 non-null  float64
 28  hospitals               26248 non-null  float64
 29  shops                   26248 non-null  float64
 30  aid_centers             26248 non-null  float64
 31  other_infrastructure    26248 non-null  float64
 32  weather_related         26248 non-null  float64
 33  floods                  26248 non-null  float64
 34  storm                   26248 non-null  float64
 35  fire                    26248 non-null  float64
 36  earthquake              26248 non-null  float64
 37  cold                    26248 non-null  float64
 38  other_weather           26248 non-null  float64
 39  direct_report           26248 non-null  float64
dtypes: float64(36), int64(1), object(3)
memory usage: 8.2+ MB
Looks good, now formatting

In [22]:
df[categories.columns] = df[categories.columns].astype(int)
In [23]:
df.info()
<class 'pandas.core.frame.DataFrame'>
Int64Index: 26248 entries, 0 to 26247
Data columns (total 40 columns):
 #   Column                  Non-Null Count  Dtype 
---  ------                  --------------  ----- 
 0   id                      26248 non-null  int64 
 1   message                 26248 non-null  object
 2   original                10246 non-null  object
 3   genre                   26248 non-null  object
 4   related                 26248 non-null  int32 
 5   request                 26248 non-null  int32 
 6   offer                   26248 non-null  int32 
 7   aid_related             26248 non-null  int32 
 8   medical_help            26248 non-null  int32 
 9   medical_products        26248 non-null  int32 
 10  search_and_rescue       26248 non-null  int32 
 11  security                26248 non-null  int32 
 12  military                26248 non-null  int32 
 13  child_alone             26248 non-null  int32 
 14  water                   26248 non-null  int32 
 15  food                    26248 non-null  int32 
 16  shelter                 26248 non-null  int32 
 17  clothing                26248 non-null  int32 
 18  money                   26248 non-null  int32 
 19  missing_people          26248 non-null  int32 
 20  refugees                26248 non-null  int32 
 21  death                   26248 non-null  int32 
 22  other_aid               26248 non-null  int32 
 23  infrastructure_related  26248 non-null  int32 
 24  transport               26248 non-null  int32 
 25  buildings               26248 non-null  int32 
 26  electricity             26248 non-null  int32 
 27  tools                   26248 non-null  int32 
 28  hospitals               26248 non-null  int32 
 29  shops                   26248 non-null  int32 
 30  aid_centers             26248 non-null  int32 
 31  other_infrastructure    26248 non-null  int32 
 32  weather_related         26248 non-null  int32 
 33  floods                  26248 non-null  int32 
 34  storm                   26248 non-null  int32 
 35  fire                    26248 non-null  int32 
 36  earthquake              26248 non-null  int32 
 37  cold                    26248 non-null  int32 
 38  other_weather           26248 non-null  int32 
 39  direct_report           26248 non-null  int32 
dtypes: int32(36), int64(1), object(3)
memory usage: 4.6+ MB
In [24]:
df['related'].value_counts()
Out[24]:
1    20123
0     6125
Name: related, dtype: int64
Looks good

6. Remove duplicates.
Check how many duplicates are in this dataset.
Drop the duplicates.
Confirm duplicates were removed.
In [25]:
# check number of duplicates
df.duplicated().sum()
Out[25]:
41
We knwe about duplicates, still some left

In [26]:
# drop duplicates
df.drop_duplicates(inplace = True)
In [27]:
# check number of duplicates
df.duplicated().sum()
Out[27]:
0
7. Save the clean dataset into an sqlite database.
You can do this with pandas to_sql method combined with the SQLAlchemy library. Remember to import SQLAlchemy's create_engine in the first cell of this notebook to use it below.

In [28]:
engine = create_engine('sqlite:///../data/DisasterResponse.db', encoding="UTF-8")
df.to_sql('disaster_messages', engine, index=False, if_exists='replace')
8. Use this notebook to complete etl_pipeline.py
Use the template file attached in the Resources folder to write a script that runs the steps above to create a database based on new datasets specified by the user. Alternatively, you can complete etl_pipeline.py in the classroom on the Project Workspace IDE coming later.

In [29]:
df['related'].value_counts()
Out[29]:
1    20106
0     6101
Name: related, dtype: int64
In [31]:
df.info()
<class 'pandas.core.frame.DataFrame'>
Int64Index: 26207 entries, 0 to 26247
Data columns (total 40 columns):
 #   Column                  Non-Null Count  Dtype 
---  ------                  --------------  ----- 
 0   id                      26207 non-null  int64 
 1   message                 26207 non-null  object
 2   original                10223 non-null  object
 3   genre                   26207 non-null  object
 4   related                 26207 non-null  int32 
 5   request                 26207 non-null  int32 
 6   offer                   26207 non-null  int32 
 7   aid_related             26207 non-null  int32 
 8   medical_help            26207 non-null  int32 
 9   medical_products        26207 non-null  int32 
 10  search_and_rescue       26207 non-null  int32 
 11  security                26207 non-null  int32 
 12  military                26207 non-null  int32 
 13  child_alone             26207 non-null  int32 
 14  water                   26207 non-null  int32 
 15  food                    26207 non-null  int32 
 16  shelter                 26207 non-null  int32 
 17  clothing                26207 non-null  int32 
 18  money                   26207 non-null  int32 
 19  missing_people          26207 non-null  int32 
 20  refugees                26207 non-null  int32 
 21  death                   26207 non-null  int32 
 22  other_aid               26207 non-null  int32 
 23  infrastructure_related  26207 non-null  int32 
 24  transport               26207 non-null  int32 
 25  buildings               26207 non-null  int32 
 26  electricity             26207 non-null  int32 
 27  tools                   26207 non-null  int32 
 28  hospitals               26207 non-null  int32 
 29  shops                   26207 non-null  int32 
 30  aid_centers             26207 non-null  int32 
 31  other_infrastructure    26207 non-null  int32 
 32  weather_related         26207 non-null  int32 
 33  floods                  26207 non-null  int32 
 34  storm                   26207 non-null  int32 
 35  fire                    26207 non-null  int32 
 36  earthquake              26207 non-null  int32 
 37  cold                    26207 non-null  int32 
 38  other_weather           26207 non-null  int32 
 39  direct_report           26207 non-null  int32 
dtypes: int32(36), int64(1), object(3)
memory usage: 4.6+ MB
In [ ]:
