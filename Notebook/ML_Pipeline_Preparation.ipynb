
ML Pipeline Preparation¶
Follow the instructions below to help you create your ML pipeline.

1. Import libraries and load data from database.
Import Python libraries
Load dataset from database with read_sql_table
Define feature and target variables X and Y
In [1]:
# import libraries
import pandas as pd
from sqlalchemy import create_engine
import nltk
from nltk.stem.wordnet import WordNetLemmatizer
from nltk.corpus import stopwords
import re
import pickle

from sklearn.ensemble import RandomForestClassifier
from sklearn.feature_extraction.text import CountVectorizer, TfidfTransformer
from sklearn.metrics import classification_report
from sklearn.model_selection import GridSearchCV, train_test_split
from sklearn.multioutput import MultiOutputClassifier
from sklearn.pipeline import Pipeline
from sklearn.tree import DecisionTreeClassifier

nltk.download('punkt')
nltk.download('stopwords')
nltk.download('wordnet')
[nltk_data] Downloading package punkt to
[nltk_data]     C:\Users\Admin\AppData\Roaming\nltk_data...
[nltk_data]   Package punkt is already up-to-date!
[nltk_data] Downloading package stopwords to
[nltk_data]     C:\Users\Admin\AppData\Roaming\nltk_data...
[nltk_data]   Package stopwords is already up-to-date!
[nltk_data] Downloading package wordnet to
[nltk_data]     C:\Users\Admin\AppData\Roaming\nltk_data...
[nltk_data]   Package wordnet is already up-to-date!
Out[1]:
True
In [2]:
# load data from database
engine = create_engine('sqlite:///../data/DisasterResponse.db')
df = pd.read_sql_table('disaster_messages', engine)

df = df[:2000]

X = df['message']
Y = df.iloc[:, 4:]
In [3]:
df.head(3)
Out[3]:
id	message	original	genre	related	request	offer	aid_related	medical_help	medical_products	...	aid_centers	other_infrastructure	weather_related	floods	storm	fire	earthquake	cold	other_weather	direct_report
0	2	Weather update - a cold front from Cuba that c...	Un front froid se retrouve sur Cuba ce matin. ...	direct	1.0	0.0	0.0	0.0	0.0	0.0	...	0.0	0.0	0.0	0.0	0.0	0.0	0.0	0.0	0.0	0.0
1	7	Is the Hurricane over or is it not over	Cyclone nan fini osinon li pa fini	direct	1.0	0.0	0.0	1.0	0.0	0.0	...	0.0	0.0	1.0	0.0	1.0	0.0	0.0	0.0	0.0	0.0
2	8	Looking for someone but no name	Patnm, di Maryani relem pou li banm nouvel li ...	direct	1.0	0.0	0.0	0.0	0.0	0.0	...	0.0	0.0	0.0	0.0	0.0	0.0	0.0	0.0	0.0	0.0
3 rows × 40 columns

In [4]:
X.head()
Out[4]:
0    Weather update - a cold front from Cuba that c...
1              Is the Hurricane over or is it not over
2                      Looking for someone but no name
3    UN reports Leogane 80-90 destroyed. Only Hospi...
4    says: west side of Haiti, rest of the country ...
Name: message, dtype: object
In [5]:
Y.head(3)
Out[5]:
related	request	offer	aid_related	medical_help	medical_products	search_and_rescue	security	military	child_alone	...	aid_centers	other_infrastructure	weather_related	floods	storm	fire	earthquake	cold	other_weather	direct_report
0	1.0	0.0	0.0	0.0	0.0	0.0	0.0	0.0	0.0	0.0	...	0.0	0.0	0.0	0.0	0.0	0.0	0.0	0.0	0.0	0.0
1	1.0	0.0	0.0	1.0	0.0	0.0	0.0	0.0	0.0	0.0	...	0.0	0.0	1.0	0.0	1.0	0.0	0.0	0.0	0.0	0.0
2	1.0	0.0	0.0	0.0	0.0	0.0	0.0	0.0	0.0	0.0	...	0.0	0.0	0.0	0.0	0.0	0.0	0.0	0.0	0.0	0.0
3 rows × 36 columns

In [6]:
df.info()
<class 'pandas.core.frame.DataFrame'>
RangeIndex: 2000 entries, 0 to 1999
Data columns (total 40 columns):
 #   Column                  Non-Null Count  Dtype  
---  ------                  --------------  -----  
 0   id                      2000 non-null   int64  
 1   message                 2000 non-null   object 
 2   original                2000 non-null   object 
 3   genre                   2000 non-null   object 
 4   related                 2000 non-null   float64
 5   request                 2000 non-null   float64
 6   offer                   2000 non-null   float64
 7   aid_related             2000 non-null   float64
 8   medical_help            2000 non-null   float64
 9   medical_products        2000 non-null   float64
 10  search_and_rescue       2000 non-null   float64
 11  security                2000 non-null   float64
 12  military                2000 non-null   float64
 13  child_alone             2000 non-null   float64
 14  water                   2000 non-null   float64
 15  food                    2000 non-null   float64
 16  shelter                 2000 non-null   float64
 17  clothing                2000 non-null   float64
 18  money                   2000 non-null   float64
 19  missing_people          2000 non-null   float64
 20  refugees                2000 non-null   float64
 21  death                   2000 non-null   float64
 22  other_aid               2000 non-null   float64
 23  infrastructure_related  2000 non-null   float64
 24  transport               2000 non-null   float64
 25  buildings               2000 non-null   float64
 26  electricity             2000 non-null   float64
 27  tools                   2000 non-null   float64
 28  hospitals               2000 non-null   float64
 29  shops                   2000 non-null   float64
 30  aid_centers             2000 non-null   float64
 31  other_infrastructure    2000 non-null   float64
 32  weather_related         2000 non-null   float64
 33  floods                  2000 non-null   float64
 34  storm                   2000 non-null   float64
 35  fire                    2000 non-null   float64
 36  earthquake              2000 non-null   float64
 37  cold                    2000 non-null   float64
 38  other_weather           2000 non-null   float64
 39  direct_report           2000 non-null   float64
dtypes: float64(36), int64(1), object(3)
memory usage: 625.1+ KB
2. Write a tokenization function to process your text data
In [7]:
def tokenize(text):
    '''Function that takes in a text splits with white spaces and creates list of words'''
    text = re.sub(r"[^a-zA-Z0-9]", " ", text.lower())

    word_list = nltk.tokenize.word_tokenize(text)
    
    stop = stopwords.words("english")
    word_list = [t for t in word_list if t not in stop]

    lemmed_list = [WordNetLemmatizer().lemmatize(w) for w in word_list]
    
    return lemmed_list
In [8]:
test_text = 'Hello world. This is just a test'
tokenize(test_text)
Out[8]:
['hello', 'world', 'test']
Works!

3. Build a machine learning pipeline
This machine pipeline should take in the message column as input and output classification results on the other 36 categories in the dataset. You may find the MultiOutputClassifier helpful for predicting multiple target variables.

In [9]:
# Setting up the machine learning model
pipeline = Pipeline([
        ('vect', CountVectorizer(tokenizer=tokenize)),
        ('tfidf', TfidfTransformer()),
        ('clf', MultiOutputClassifier(RandomForestClassifier()))
        ])
4. Train pipeline
Split data into train and test sets
Train pipeline
In [10]:
# Step one: Split into train- and test data
X_train, X_test, Y_train, Y_test = train_test_split(
            X, Y, test_size=0.2)
In [11]:
# Our model to train is "pipeline"
model = pipeline.fit(X_train, Y_train)
In [12]:
pred_train = model.predict(X_train)
In [13]:
pred_test = model.predict(X_test)
5. Test your model
Report the f1 score, precision and recall for each output category of the dataset. You can do this by iterating through the columns and calling sklearn's classification_report on each.

In [14]:
# print predictions classification_report()
for index, column in enumerate(Y_test.columns):
    print('Category: {}'.format(column))
    print(classification_report(Y_test[column], pred_test[:,index]))
Category: related
              precision    recall  f1-score   support

         0.0       0.36      0.04      0.08        94
         1.0       0.77      0.98      0.86       306

    accuracy                           0.76       400
   macro avg       0.57      0.51      0.47       400
weighted avg       0.67      0.76      0.68       400

Category: request
              precision    recall  f1-score   support

         0.0       0.58      0.56      0.57       204
         1.0       0.56      0.59      0.57       196

    accuracy                           0.57       400
   macro avg       0.57      0.57      0.57       400
weighted avg       0.57      0.57      0.57       400

Category: offer
              precision    recall  f1-score   support

         0.0       1.00      1.00      1.00       400

    accuracy                           1.00       400
   macro avg       1.00      1.00      1.00       400
weighted avg       1.00      1.00      1.00       400

Category: aid_related
              precision    recall  f1-score   support

         0.0       0.52      0.37      0.43       192
         1.0       0.54      0.68      0.60       208

    accuracy                           0.53       400
   macro avg       0.53      0.53      0.52       400
weighted avg       0.53      0.53      0.52       400

Category: medical_help
              precision    recall  f1-score   support

         0.0       0.92      1.00      0.96       368
         1.0       0.00      0.00      0.00        32

    accuracy                           0.92       400
   macro avg       0.46      0.50      0.48       400
weighted avg       0.85      0.92      0.88       400

Category: medical_products
              precision    recall  f1-score   support

         0.0       0.95      1.00      0.98       382
         1.0       0.00      0.00      0.00        18

    accuracy                           0.95       400
   macro avg       0.48      0.50      0.49       400
weighted avg       0.91      0.95      0.93       400

Category: search_and_rescue
              precision    recall  f1-score   support

         0.0       0.96      1.00      0.98       384
         1.0       0.00      0.00      0.00        16

    accuracy                           0.96       400
   macro avg       0.48      0.50      0.49       400
weighted avg       0.92      0.96      0.94       400

Category: security
              precision    recall  f1-score   support

         0.0       0.98      1.00      0.99       391
         1.0       0.00      0.00      0.00         9

    accuracy                           0.98       400
   macro avg       0.49      0.50      0.49       400
weighted avg       0.96      0.98      0.97       400

Category: military
              precision    recall  f1-score   support

         0.0       0.99      1.00      1.00       398
         1.0       0.00      0.00      0.00         2

    accuracy                           0.99       400
   macro avg       0.50      0.50      0.50       400
weighted avg       0.99      0.99      0.99       400

Category: child_alone
              precision    recall  f1-score   support

         0.0       1.00      1.00      1.00       400

    accuracy                           1.00       400
   macro avg       1.00      1.00      1.00       400
weighted avg       1.00      1.00      1.00       400

Category: water
              precision    recall  f1-score   support

         0.0       0.85      0.99      0.92       341
         1.0       0.00      0.00      0.00        59

    accuracy                           0.84       400
   macro avg       0.43      0.50      0.46       400
weighted avg       0.73      0.84      0.78       400

Category: food
              precision    recall  f1-score   support

         0.0       0.74      0.97      0.84       298
         1.0       0.25      0.03      0.05       102

    accuracy                           0.73       400
   macro avg       0.50      0.50      0.45       400
weighted avg       0.62      0.73      0.64       400

Category: shelter
              precision    recall  f1-score   support

         0.0       0.88      1.00      0.94       352
         1.0       0.00      0.00      0.00        48

    accuracy                           0.88       400
   macro avg       0.44      0.50      0.47       400
weighted avg       0.77      0.88      0.82       400

Category: clothing
              precision    recall  f1-score   support

         0.0       0.98      1.00      0.99       391
         1.0       0.00      0.00      0.00         9

    accuracy                           0.98       400
   macro avg       0.49      0.50      0.49       400
weighted avg       0.96      0.98      0.97       400

Category: money
              precision    recall  f1-score   support

         0.0       0.97      1.00      0.99       390
         1.0       0.00      0.00      0.00        10

    accuracy                           0.97       400
   macro avg       0.49      0.50      0.49       400
weighted avg       0.95      0.97      0.96       400

Category: missing_people
              precision    recall  f1-score   support

         0.0       0.98      1.00      0.99       393
         1.0       0.00      0.00      0.00         7

    accuracy                           0.98       400
   macro avg       0.49      0.50      0.50       400
weighted avg       0.97      0.98      0.97       400

Category: refugees
              precision    recall  f1-score   support

         0.0       0.98      1.00      0.99       391
         1.0       0.00      0.00      0.00         9

    accuracy                           0.98       400
   macro avg       0.49      0.50      0.49       400
weighted avg       0.96      0.98      0.97       400

Category: death
              precision    recall  f1-score   support

         0.0       0.95      1.00      0.98       382
         1.0       0.00      0.00      0.00        18

    accuracy                           0.95       400
   macro avg       0.48      0.50      0.49       400
weighted avg       0.91      0.95      0.93       400

Category: other_aid
              precision    recall  f1-score   support

         0.0       0.83      0.99      0.90       331
         1.0       0.00      0.00      0.00        69

    accuracy                           0.82       400
   macro avg       0.41      0.50      0.45       400
weighted avg       0.68      0.82      0.75       400

Category: infrastructure_related
              precision    recall  f1-score   support

         0.0       0.97      1.00      0.98       388
         1.0       0.00      0.00      0.00        12

    accuracy                           0.97       400
   macro avg       0.48      0.50      0.49       400
weighted avg       0.94      0.97      0.96       400

Category: transport
              precision    recall  f1-score   support

         0.0       0.97      1.00      0.98       387
         1.0       0.00      0.00      0.00        13

    accuracy                           0.97       400
   macro avg       0.48      0.50      0.49       400
weighted avg       0.94      0.97      0.95       400

Category: buildings
              precision    recall  f1-score   support

         0.0       0.97      1.00      0.98       387
         1.0       0.00      0.00      0.00        13

    accuracy                           0.97       400
   macro avg       0.48      0.50      0.49       400
weighted avg       0.94      0.97      0.95       400

Category: electricity
              precision    recall  f1-score   support

         0.0       0.99      1.00      1.00       398
         1.0       0.00      0.00      0.00         2

    accuracy                           0.99       400
   macro avg       0.50      0.50      0.50       400
weighted avg       0.99      0.99      0.99       400

Category: tools
              precision    recall  f1-score   support

         0.0       0.99      1.00      1.00       398
         1.0       0.00      0.00      0.00         2

    accuracy                           0.99       400
   macro avg       0.50      0.50      0.50       400
weighted avg       0.99      0.99      0.99       400

Category: hospitals
              precision    recall  f1-score   support

         0.0       0.99      1.00      1.00       398
         1.0       0.00      0.00      0.00         2

    accuracy                           0.99       400
   macro avg       0.50      0.50      0.50       400
weighted avg       0.99      0.99      0.99       400

Category: shops
              precision    recall  f1-score   support

         0.0       0.99      1.00      1.00       397
         1.0       0.00      0.00      0.00         3

    accuracy                           0.99       400
   macro avg       0.50      0.50      0.50       400
weighted avg       0.99      0.99      0.99       400

Category: aid_centers
              precision    recall  f1-score   support

         0.0       0.99      1.00      1.00       398
         1.0       0.00      0.00      0.00         2

    accuracy                           0.99       400
   macro avg       0.50      0.50      0.50       400
weighted avg       0.99      0.99      0.99       400

Category: other_infrastructure
              precision    recall  f1-score   support

         0.0       0.99      1.00      0.99       395
         1.0       0.00      0.00      0.00         5

    accuracy                           0.99       400
   macro avg       0.49      0.50      0.50       400
weighted avg       0.98      0.99      0.98       400

Category: weather_related
              precision    recall  f1-score   support

         0.0       0.86      0.99      0.92       342
         1.0       0.33      0.02      0.03        58

    accuracy                           0.85       400
   macro avg       0.59      0.51      0.48       400
weighted avg       0.78      0.85      0.79       400

Category: floods
              precision    recall  f1-score   support

         0.0       0.97      1.00      0.99       389
         1.0       0.00      0.00      0.00        11

    accuracy                           0.97       400
   macro avg       0.49      0.50      0.49       400
weighted avg       0.95      0.97      0.96       400

Category: storm
              precision    recall  f1-score   support

         0.0       0.99      1.00      0.99       396
         1.0       0.00      0.00      0.00         4

    accuracy                           0.99       400
   macro avg       0.49      0.50      0.50       400
weighted avg       0.98      0.99      0.99       400

Category: fire
              precision    recall  f1-score   support

         0.0       0.99      1.00      1.00       398
         1.0       0.00      0.00      0.00         2

    accuracy                           0.99       400
   macro avg       0.50      0.50      0.50       400
weighted avg       0.99      0.99      0.99       400

Category: earthquake
              precision    recall  f1-score   support

         0.0       0.92      1.00      0.96       366
         1.0       0.00      0.00      0.00        34

    accuracy                           0.92       400
   macro avg       0.46      0.50      0.48       400
weighted avg       0.84      0.92      0.87       400

Category: cold
              precision    recall  f1-score   support

         0.0       0.99      1.00      1.00       397
         1.0       0.00      0.00      0.00         3

    accuracy                           0.99       400
   macro avg       0.50      0.50      0.50       400
weighted avg       0.99      0.99      0.99       400

Category: other_weather
              precision    recall  f1-score   support

         0.0       0.98      1.00      0.99       391
         1.0       0.00      0.00      0.00         9

    accuracy                           0.98       400
   macro avg       0.49      0.50      0.49       400
weighted avg       0.96      0.98      0.97       400

Category: direct_report
              precision    recall  f1-score   support

         0.0       0.54      0.50      0.52       208
         1.0       0.50      0.54      0.52       192

    accuracy                           0.52       400
   macro avg       0.52      0.52      0.52       400
weighted avg       0.52      0.52      0.52       400

In [15]:
# print predictions classification_report()
for index, column in enumerate(Y_train.columns):
    print('Category: {}'.format(column))
    print(classification_report(Y_train[column], pred_train[:,index]))
Category: related
              precision    recall  f1-score   support

         0.0       1.00      0.99      0.99       322
         1.0       1.00      1.00      1.00      1278

    accuracy                           1.00      1600
   macro avg       1.00      0.99      1.00      1600
weighted avg       1.00      1.00      1.00      1600

Category: request
              precision    recall  f1-score   support

         0.0       1.00      0.99      1.00       778
         1.0       1.00      1.00      1.00       822

    accuracy                           1.00      1600
   macro avg       1.00      1.00      1.00      1600
weighted avg       1.00      1.00      1.00      1600

Category: offer
              precision    recall  f1-score   support

         0.0       1.00      1.00      1.00      1596
         1.0       1.00      0.75      0.86         4

    accuracy                           1.00      1600
   macro avg       1.00      0.88      0.93      1600
weighted avg       1.00      1.00      1.00      1600

Category: aid_related
              precision    recall  f1-score   support

         0.0       1.00      1.00      1.00       737
         1.0       1.00      1.00      1.00       863

    accuracy                           1.00      1600
   macro avg       1.00      1.00      1.00      1600
weighted avg       1.00      1.00      1.00      1600

Category: medical_help
              precision    recall  f1-score   support

         0.0       1.00      1.00      1.00      1463
         1.0       0.99      0.99      0.99       137

    accuracy                           1.00      1600
   macro avg       1.00      0.99      0.99      1600
weighted avg       1.00      1.00      1.00      1600

Category: medical_products
              precision    recall  f1-score   support

         0.0       1.00      1.00      1.00      1513
         1.0       1.00      0.99      0.99        87

    accuracy                           1.00      1600
   macro avg       1.00      0.99      1.00      1600
weighted avg       1.00      1.00      1.00      1600

Category: search_and_rescue
              precision    recall  f1-score   support

         0.0       1.00      1.00      1.00      1540
         1.0       1.00      1.00      1.00        60

    accuracy                           1.00      1600
   macro avg       1.00      1.00      1.00      1600
weighted avg       1.00      1.00      1.00      1600

Category: security
              precision    recall  f1-score   support

         0.0       1.00      1.00      1.00      1571
         1.0       1.00      0.97      0.98        29

    accuracy                           1.00      1600
   macro avg       1.00      0.98      0.99      1600
weighted avg       1.00      1.00      1.00      1600

Category: military
              precision    recall  f1-score   support

         0.0       1.00      1.00      1.00      1585
         1.0       1.00      1.00      1.00        15

    accuracy                           1.00      1600
   macro avg       1.00      1.00      1.00      1600
weighted avg       1.00      1.00      1.00      1600

Category: child_alone
              precision    recall  f1-score   support

         0.0       1.00      1.00      1.00      1600

    accuracy                           1.00      1600
   macro avg       1.00      1.00      1.00      1600
weighted avg       1.00      1.00      1.00      1600

Category: water
              precision    recall  f1-score   support

         0.0       1.00      1.00      1.00      1353
         1.0       1.00      0.99      0.99       247

    accuracy                           1.00      1600
   macro avg       1.00      0.99      1.00      1600
weighted avg       1.00      1.00      1.00      1600

Category: food
              precision    recall  f1-score   support

         0.0       1.00      1.00      1.00      1231
         1.0       1.00      0.99      0.99       369

    accuracy                           1.00      1600
   macro avg       1.00      0.99      1.00      1600
weighted avg       1.00      1.00      1.00      1600

Category: shelter
              precision    recall  f1-score   support

         0.0       1.00      1.00      1.00      1391
         1.0       0.99      1.00      0.99       209

    accuracy                           1.00      1600
   macro avg       0.99      1.00      1.00      1600
weighted avg       1.00      1.00      1.00      1600

Category: clothing
              precision    recall  f1-score   support

         0.0       1.00      1.00      1.00      1566
         1.0       1.00      0.97      0.99        34

    accuracy                           1.00      1600
   macro avg       1.00      0.99      0.99      1600
weighted avg       1.00      1.00      1.00      1600

Category: money
              precision    recall  f1-score   support

         0.0       1.00      1.00      1.00      1573
         1.0       1.00      1.00      1.00        27

    accuracy                           1.00      1600
   macro avg       1.00      1.00      1.00      1600
weighted avg       1.00      1.00      1.00      1600

Category: missing_people
              precision    recall  f1-score   support

         0.0       1.00      1.00      1.00      1577
         1.0       1.00      1.00      1.00        23

    accuracy                           1.00      1600
   macro avg       1.00      1.00      1.00      1600
weighted avg       1.00      1.00      1.00      1600

Category: refugees
              precision    recall  f1-score   support

         0.0       1.00      1.00      1.00      1559
         1.0       1.00      1.00      1.00        41

    accuracy                           1.00      1600
   macro avg       1.00      1.00      1.00      1600
weighted avg       1.00      1.00      1.00      1600

Category: death
              precision    recall  f1-score   support

         0.0       1.00      1.00      1.00      1542
         1.0       1.00      1.00      1.00        58

    accuracy                           1.00      1600
   macro avg       1.00      1.00      1.00      1600
weighted avg       1.00      1.00      1.00      1600

Category: other_aid
              precision    recall  f1-score   support

         0.0       1.00      1.00      1.00      1284
         1.0       0.99      0.99      0.99       316

    accuracy                           1.00      1600
   macro avg       1.00      1.00      1.00      1600
weighted avg       1.00      1.00      1.00      1600

Category: infrastructure_related
              precision    recall  f1-score   support

         0.0       1.00      1.00      1.00      1525
         1.0       1.00      0.97      0.99        75

    accuracy                           1.00      1600
   macro avg       1.00      0.99      0.99      1600
weighted avg       1.00      1.00      1.00      1600

Category: transport
              precision    recall  f1-score   support

         0.0       1.00      1.00      1.00      1564
         1.0       1.00      1.00      1.00        36

    accuracy                           1.00      1600
   macro avg       1.00      1.00      1.00      1600
weighted avg       1.00      1.00      1.00      1600

Category: buildings
              precision    recall  f1-score   support

         0.0       1.00      1.00      1.00      1501
         1.0       1.00      0.99      0.99        99

    accuracy                           1.00      1600
   macro avg       1.00      0.99      1.00      1600
weighted avg       1.00      1.00      1.00      1600

Category: electricity
              precision    recall  f1-score   support

         0.0       1.00      1.00      1.00      1587
         1.0       1.00      1.00      1.00        13

    accuracy                           1.00      1600
   macro avg       1.00      1.00      1.00      1600
weighted avg       1.00      1.00      1.00      1600

Category: tools
              precision    recall  f1-score   support

         0.0       1.00      1.00      1.00      1593
         1.0       1.00      1.00      1.00         7

    accuracy                           1.00      1600
   macro avg       1.00      1.00      1.00      1600
weighted avg       1.00      1.00      1.00      1600

Category: hospitals
              precision    recall  f1-score   support

         0.0       1.00      1.00      1.00      1585
         1.0       1.00      0.93      0.97        15

    accuracy                           1.00      1600
   macro avg       1.00      0.97      0.98      1600
weighted avg       1.00      1.00      1.00      1600

Category: shops
              precision    recall  f1-score   support

         0.0       1.00      1.00      1.00      1594
         1.0       1.00      1.00      1.00         6

    accuracy                           1.00      1600
   macro avg       1.00      1.00      1.00      1600
weighted avg       1.00      1.00      1.00      1600

Category: aid_centers
              precision    recall  f1-score   support

         0.0       1.00      1.00      1.00      1588
         1.0       1.00      1.00      1.00        12

    accuracy                           1.00      1600
   macro avg       1.00      1.00      1.00      1600
weighted avg       1.00      1.00      1.00      1600

Category: other_infrastructure
              precision    recall  f1-score   support

         0.0       1.00      1.00      1.00      1556
         1.0       1.00      0.98      0.99        44

    accuracy                           1.00      1600
   macro avg       1.00      0.99      0.99      1600
weighted avg       1.00      1.00      1.00      1600

Category: weather_related
              precision    recall  f1-score   support

         0.0       1.00      1.00      1.00      1364
         1.0       1.00      1.00      1.00       236

    accuracy                           1.00      1600
   macro avg       1.00      1.00      1.00      1600
weighted avg       1.00      1.00      1.00      1600

Category: floods
              precision    recall  f1-score   support

         0.0       1.00      1.00      1.00      1566
         1.0       1.00      1.00      1.00        34

    accuracy                           1.00      1600
   macro avg       1.00      1.00      1.00      1600
weighted avg       1.00      1.00      1.00      1600

Category: storm
              precision    recall  f1-score   support

         0.0       1.00      1.00      1.00      1573
         1.0       1.00      1.00      1.00        27

    accuracy                           1.00      1600
   macro avg       1.00      1.00      1.00      1600
weighted avg       1.00      1.00      1.00      1600

Category: fire
              precision    recall  f1-score   support

         0.0       1.00      1.00      1.00      1591
         1.0       1.00      1.00      1.00         9

    accuracy                           1.00      1600
   macro avg       1.00      1.00      1.00      1600
weighted avg       1.00      1.00      1.00      1600

Category: earthquake
              precision    recall  f1-score   support

         0.0       1.00      1.00      1.00      1459
         1.0       0.99      1.00      1.00       141

    accuracy                           1.00      1600
   macro avg       1.00      1.00      1.00      1600
weighted avg       1.00      1.00      1.00      1600

Category: cold
              precision    recall  f1-score   support

         0.0       1.00      1.00      1.00      1584
         1.0       1.00      1.00      1.00        16

    accuracy                           1.00      1600
   macro avg       1.00      1.00      1.00      1600
weighted avg       1.00      1.00      1.00      1600

Category: other_weather
              precision    recall  f1-score   support

         0.0       1.00      1.00      1.00      1560
         1.0       1.00      0.97      0.99        40

    accuracy                           1.00      1600
   macro avg       1.00      0.99      0.99      1600
weighted avg       1.00      1.00      1.00      1600

Category: direct_report
              precision    recall  f1-score   support

         0.0       0.99      1.00      1.00       793
         1.0       1.00      0.99      1.00       807

    accuracy                           1.00      1600
   macro avg       1.00      1.00      1.00      1600
weighted avg       1.00      1.00      1.00      1600

6. Improve your model
Use grid search to find better parameters.

In [16]:
# What are the parameters of the pipeline object?
params = pipeline.get_params().keys()
In [17]:
for param in params:
    print(param + ': ', pipeline.get_params()[param], '\n')
memory:  None 

steps:  [('vect', CountVectorizer(tokenizer=<function tokenize at 0x0000019A0194F1F0>)), ('tfidf', TfidfTransformer()), ('clf', MultiOutputClassifier(estimator=RandomForestClassifier()))] 

verbose:  False 

vect:  CountVectorizer(tokenizer=<function tokenize at 0x0000019A0194F1F0>) 

tfidf:  TfidfTransformer() 

clf:  MultiOutputClassifier(estimator=RandomForestClassifier()) 

vect__analyzer:  word 

vect__binary:  False 

vect__decode_error:  strict 

vect__dtype:  <class 'numpy.int64'> 

vect__encoding:  utf-8 

vect__input:  content 

vect__lowercase:  True 

vect__max_df:  1.0 

vect__max_features:  None 

vect__min_df:  1 

vect__ngram_range:  (1, 1) 

vect__preprocessor:  None 

vect__stop_words:  None 

vect__strip_accents:  None 

vect__token_pattern:  (?u)\b\w\w+\b 

vect__tokenizer:  <function tokenize at 0x0000019A0194F1F0> 

vect__vocabulary:  None 

tfidf__norm:  l2 

tfidf__smooth_idf:  True 

tfidf__sublinear_tf:  False 

tfidf__use_idf:  True 

clf__estimator__bootstrap:  True 

clf__estimator__ccp_alpha:  0.0 

clf__estimator__class_weight:  None 

clf__estimator__criterion:  gini 

clf__estimator__max_depth:  None 

clf__estimator__max_features:  auto 

clf__estimator__max_leaf_nodes:  None 

clf__estimator__max_samples:  None 

clf__estimator__min_impurity_decrease:  0.0 

clf__estimator__min_impurity_split:  None 

clf__estimator__min_samples_leaf:  1 

clf__estimator__min_samples_split:  2 

clf__estimator__min_weight_fraction_leaf:  0.0 

clf__estimator__n_estimators:  100 

clf__estimator__n_jobs:  None 

clf__estimator__oob_score:  False 

clf__estimator__random_state:  None 

clf__estimator__verbose:  0 

clf__estimator__warm_start:  False 

clf__estimator:  RandomForestClassifier() 

clf__n_jobs:  None 

Selecting some example parameters for the text pipeline:
text_pipelinevectmax_df: 1.0
text_pipelinevectmin_df: 1
text_pipelinevectmax_features: None
text_pipelinevectstop_words: None
text_pipelinetfidfuse_idf: True
Selecting some example parameters for the classifier pipeline:
clfestimatormax_depth: None
clfestimatormin_samples_leaf: 1
clfestimatorn_estimators: 10
In [18]:
# Trying new parameters for grid search
parameters = {
        'tfidf__use_idf': (True, False),
        'clf__estimator__n_estimators': [10, 20]
}

cv = GridSearchCV(pipeline, param_grid = parameters)
cv
Out[18]:
GridSearchCV(estimator=Pipeline(steps=[('vect',
                                        CountVectorizer(tokenizer=<function tokenize at 0x0000019A0194F1F0>)),
                                       ('tfidf', TfidfTransformer()),
                                       ('clf',
                                        MultiOutputClassifier(estimator=RandomForestClassifier()))]),
             param_grid={'clf__estimator__n_estimators': [10, 20],
                         'tfidf__use_idf': (True, False)})
In [19]:
cv.fit(X_train, Y_train)
Out[19]:
GridSearchCV(estimator=Pipeline(steps=[('vect',
                                        CountVectorizer(tokenizer=<function tokenize at 0x0000019A0194F1F0>)),
                                       ('tfidf', TfidfTransformer()),
                                       ('clf',
                                        MultiOutputClassifier(estimator=RandomForestClassifier()))]),
             param_grid={'clf__estimator__n_estimators': [10, 20],
                         'tfidf__use_idf': (True, False)})
In [ ]:

7. Test your model
Show the accuracy, precision, and recall of the tuned model.

Since this project focuses on code quality, process, and pipelines, there is no minimum performance metric needed to pass. However, make sure to fine tune your models for accuracy, precision and recall to make your project stand out - especially for your portfolio!

In [20]:
# Generating predictions
pred_test = cv.predict(X_test)
for index, column in enumerate(Y_train.columns):
    print('Category: {}'.format(column))
    print(classification_report(Y_test[column], pred_test[:,index]))
Category: related
              precision    recall  f1-score   support

         0.0       0.32      0.07      0.12        94
         1.0       0.77      0.95      0.85       306

    accuracy                           0.74       400
   macro avg       0.54      0.51      0.49       400
weighted avg       0.66      0.74      0.68       400

Category: request
              precision    recall  f1-score   support

         0.0       0.55      0.59      0.57       204
         1.0       0.54      0.49      0.51       196

    accuracy                           0.54       400
   macro avg       0.54      0.54      0.54       400
weighted avg       0.54      0.54      0.54       400

Category: offer
              precision    recall  f1-score   support

         0.0       1.00      1.00      1.00       400

    accuracy                           1.00       400
   macro avg       1.00      1.00      1.00       400
weighted avg       1.00      1.00      1.00       400

Category: aid_related
              precision    recall  f1-score   support

         0.0       0.55      0.49      0.52       192
         1.0       0.57      0.62      0.59       208

    accuracy                           0.56       400
   macro avg       0.56      0.56      0.56       400
weighted avg       0.56      0.56      0.56       400

Category: medical_help
              precision    recall  f1-score   support

         0.0       0.92      0.99      0.96       368
         1.0       0.00      0.00      0.00        32

    accuracy                           0.92       400
   macro avg       0.46      0.50      0.48       400
weighted avg       0.85      0.92      0.88       400

Category: medical_products
              precision    recall  f1-score   support

         0.0       0.95      0.99      0.97       382
         1.0       0.00      0.00      0.00        18

    accuracy                           0.95       400
   macro avg       0.48      0.50      0.49       400
weighted avg       0.91      0.95      0.93       400

Category: search_and_rescue
              precision    recall  f1-score   support

         0.0       0.96      1.00      0.98       384
         1.0       0.00      0.00      0.00        16

    accuracy                           0.96       400
   macro avg       0.48      0.50      0.49       400
weighted avg       0.92      0.96      0.94       400

Category: security
              precision    recall  f1-score   support

         0.0       0.98      1.00      0.99       391
         1.0       0.00      0.00      0.00         9

    accuracy                           0.98       400
   macro avg       0.49      0.50      0.49       400
weighted avg       0.96      0.98      0.97       400

Category: military
              precision    recall  f1-score   support

         0.0       0.99      1.00      1.00       398
         1.0       0.00      0.00      0.00         2

    accuracy                           0.99       400
   macro avg       0.50      0.50      0.50       400
weighted avg       0.99      0.99      0.99       400

Category: child_alone
              precision    recall  f1-score   support

         0.0       1.00      1.00      1.00       400

    accuracy                           1.00       400
   macro avg       1.00      1.00      1.00       400
weighted avg       1.00      1.00      1.00       400

Category: water
              precision    recall  f1-score   support

         0.0       0.86      0.99      0.92       341
         1.0       0.38      0.05      0.09        59

    accuracy                           0.85       400
   macro avg       0.62      0.52      0.50       400
weighted avg       0.79      0.85      0.79       400

Category: food
              precision    recall  f1-score   support

         0.0       0.75      0.96      0.84       298
         1.0       0.31      0.05      0.08       102

    accuracy                           0.73       400
   macro avg       0.53      0.51      0.46       400
weighted avg       0.64      0.73      0.65       400

Category: shelter
              precision    recall  f1-score   support

         0.0       0.88      0.98      0.93       352
         1.0       0.20      0.04      0.07        48

    accuracy                           0.86       400
   macro avg       0.54      0.51      0.50       400
weighted avg       0.80      0.86      0.82       400

Category: clothing
              precision    recall  f1-score   support

         0.0       0.98      1.00      0.99       391
         1.0       0.00      0.00      0.00         9

    accuracy                           0.98       400
   macro avg       0.49      0.50      0.49       400
weighted avg       0.96      0.98      0.97       400

Category: money
              precision    recall  f1-score   support

         0.0       0.97      1.00      0.99       390
         1.0       0.00      0.00      0.00        10

    accuracy                           0.97       400
   macro avg       0.49      0.50      0.49       400
weighted avg       0.95      0.97      0.96       400

Category: missing_people
              precision    recall  f1-score   support

         0.0       0.98      1.00      0.99       393
         1.0       0.00      0.00      0.00         7

    accuracy                           0.98       400
   macro avg       0.49      0.50      0.50       400
weighted avg       0.97      0.98      0.97       400

Category: refugees
              precision    recall  f1-score   support

         0.0       0.98      1.00      0.99       391
         1.0       0.00      0.00      0.00         9

    accuracy                           0.98       400
   macro avg       0.49      0.50      0.49       400
weighted avg       0.96      0.98      0.97       400

Category: death
              precision    recall  f1-score   support

         0.0       0.95      1.00      0.98       382
         1.0       0.00      0.00      0.00        18

    accuracy                           0.95       400
   macro avg       0.48      0.50      0.49       400
weighted avg       0.91      0.95      0.93       400

Category: other_aid
              precision    recall  f1-score   support

         0.0       0.83      0.99      0.90       331
         1.0       0.40      0.03      0.05        69

    accuracy                           0.82       400
   macro avg       0.62      0.51      0.48       400
weighted avg       0.76      0.82      0.76       400

Category: infrastructure_related
              precision    recall  f1-score   support

         0.0       0.97      1.00      0.98       388
         1.0       0.00      0.00      0.00        12

    accuracy                           0.97       400
   macro avg       0.48      0.50      0.49       400
weighted avg       0.94      0.97      0.96       400

Category: transport
              precision    recall  f1-score   support

         0.0       0.97      1.00      0.98       387
         1.0       0.00      0.00      0.00        13

    accuracy                           0.97       400
   macro avg       0.48      0.50      0.49       400
weighted avg       0.94      0.97      0.95       400

Category: buildings
              precision    recall  f1-score   support

         0.0       0.97      1.00      0.98       387
         1.0       0.00      0.00      0.00        13

    accuracy                           0.97       400
   macro avg       0.48      0.50      0.49       400
weighted avg       0.94      0.97      0.95       400

Category: electricity
              precision    recall  f1-score   support

         0.0       0.99      1.00      1.00       398
         1.0       0.00      0.00      0.00         2

    accuracy                           0.99       400
   macro avg       0.50      0.50      0.50       400
weighted avg       0.99      0.99      0.99       400

Category: tools
              precision    recall  f1-score   support

         0.0       0.99      1.00      1.00       398
         1.0       0.00      0.00      0.00         2

    accuracy                           0.99       400
   macro avg       0.50      0.50      0.50       400
weighted avg       0.99      0.99      0.99       400

Category: hospitals
              precision    recall  f1-score   support

         0.0       0.99      1.00      1.00       398
         1.0       0.00      0.00      0.00         2

    accuracy                           0.99       400
   macro avg       0.50      0.50      0.50       400
weighted avg       0.99      0.99      0.99       400

Category: shops
              precision    recall  f1-score   support

         0.0       0.99      1.00      1.00       397
         1.0       0.00      0.00      0.00         3

    accuracy                           0.99       400
   macro avg       0.50      0.50      0.50       400
weighted avg       0.99      0.99      0.99       400

Category: aid_centers
              precision    recall  f1-score   support

         0.0       0.99      1.00      1.00       398
         1.0       0.00      0.00      0.00         2

    accuracy                           0.99       400
   macro avg       0.50      0.50      0.50       400
weighted avg       0.99      0.99      0.99       400

Category: other_infrastructure
              precision    recall  f1-score   support

         0.0       0.99      1.00      0.99       395
         1.0       0.00      0.00      0.00         5

    accuracy                           0.99       400
   macro avg       0.49      0.50      0.50       400
weighted avg       0.98      0.99      0.98       400

Category: weather_related
              precision    recall  f1-score   support

         0.0       0.86      0.99      0.92       342
         1.0       0.50      0.03      0.06        58

    accuracy                           0.85       400
   macro avg       0.68      0.51      0.49       400
weighted avg       0.81      0.85      0.80       400

Category: floods
              precision    recall  f1-score   support

         0.0       0.97      1.00      0.99       389
         1.0       0.00      0.00      0.00        11

    accuracy                           0.97       400
   macro avg       0.49      0.50      0.49       400
weighted avg       0.95      0.97      0.96       400

Category: storm
              precision    recall  f1-score   support

         0.0       0.99      1.00      0.99       396
         1.0       0.00      0.00      0.00         4

    accuracy                           0.99       400
   macro avg       0.49      0.50      0.50       400
weighted avg       0.98      0.99      0.99       400

Category: fire
              precision    recall  f1-score   support

         0.0       0.99      1.00      1.00       398
         1.0       0.00      0.00      0.00         2

    accuracy                           0.99       400
   macro avg       0.50      0.50      0.50       400
weighted avg       0.99      0.99      0.99       400

Category: earthquake
              precision    recall  f1-score   support

         0.0       0.92      1.00      0.96       366
         1.0       0.00      0.00      0.00        34

    accuracy                           0.92       400
   macro avg       0.46      0.50      0.48       400
weighted avg       0.84      0.92      0.87       400

Category: cold
              precision    recall  f1-score   support

         0.0       0.99      1.00      1.00       397
         1.0       0.00      0.00      0.00         3

    accuracy                           0.99       400
   macro avg       0.50      0.50      0.50       400
weighted avg       0.99      0.99      0.99       400

Category: other_weather
              precision    recall  f1-score   support

         0.0       0.98      1.00      0.99       391
         1.0       0.00      0.00      0.00         9

    accuracy                           0.97       400
   macro avg       0.49      0.50      0.49       400
weighted avg       0.96      0.97      0.97       400

Category: direct_report
              precision    recall  f1-score   support

         0.0       0.56      0.66      0.60       208
         1.0       0.54      0.43      0.48       192

    accuracy                           0.55       400
   macro avg       0.55      0.55      0.54       400
weighted avg       0.55      0.55      0.54       400

8. Try improving your model further. Here are a few ideas:
try other machine learning algorithms
add other features besides the TF-IDF
In [ ]:

9. Export your model as a pickle file
In [21]:
file_name = 'classifier.pkl'
with open (file_name, 'wb') as dat_file:
    pickle.dump(cv, dat_file)
10. Use this notebook to complete train.py
Use the template file attached in the Resources folder to write a script that runs the steps above to create a database and export a model based on a new dataset specified by the user.

In [ ]:
