{
 "metadata": {
  "language_info": {
   "codemirror_mode": {
    "name": "ipython",
    "version": 3
   },
   "file_extension": ".py",
   "mimetype": "text/x-python",
   "name": "python",
   "nbconvert_exporter": "python",
   "pygments_lexer": "ipython3",
   "version": "3.7.6-final"
  },
  "orig_nbformat": 2,
  "kernelspec": {
   "name": "python3",
   "display_name": "Python 3.7.6 64-bit (conda)",
   "metadata": {
    "interpreter": {
     "hash": "030847d411e36e540a334fb57dfac4e8fa9ee3ff53a789bd52207a333d67df0a"
    }
   }
  }
 },
 "nbformat": 4,
 "nbformat_minor": 2,
 "cells": [
  {
   "cell_type": "code",
   "execution_count": 1,
   "metadata": {},
   "outputs": [],
   "source": [
    "\n",
    "# import libraries\n",
    "import pandas as pd\n",
    "from sqlalchemy import create_engine"
   ]
  },
  {
   "cell_type": "code",
   "execution_count": 2,
   "metadata": {},
   "outputs": [
    {
     "output_type": "execute_result",
     "data": {
      "text/plain": [
       "   id                                            message  \\\n",
       "0   2  Weather update - a cold front from Cuba that c...   \n",
       "1   7            Is the Hurricane over or is it not over   \n",
       "2   8                    Looking for someone but no name   \n",
       "3   9  UN reports Leogane 80-90 destroyed. Only Hospi...   \n",
       "4  12  says: west side of Haiti, rest of the country ...   \n",
       "\n",
       "                                            original   genre  \n",
       "0  Un front froid se retrouve sur Cuba ce matin. ...  direct  \n",
       "1                 Cyclone nan fini osinon li pa fini  direct  \n",
       "2  Patnm, di Maryani relem pou li banm nouvel li ...  direct  \n",
       "3  UN reports Leogane 80-90 destroyed. Only Hospi...  direct  \n",
       "4  facade ouest d Haiti et le reste du pays aujou...  direct  "
      ],
      "text/html": "<div>\n<style scoped>\n    .dataframe tbody tr th:only-of-type {\n        vertical-align: middle;\n    }\n\n    .dataframe tbody tr th {\n        vertical-align: top;\n    }\n\n    .dataframe thead th {\n        text-align: right;\n    }\n</style>\n<table border=\"1\" class=\"dataframe\">\n  <thead>\n    <tr style=\"text-align: right;\">\n      <th></th>\n      <th>id</th>\n      <th>message</th>\n      <th>original</th>\n      <th>genre</th>\n    </tr>\n  </thead>\n  <tbody>\n    <tr>\n      <th>0</th>\n      <td>2</td>\n      <td>Weather update - a cold front from Cuba that c...</td>\n      <td>Un front froid se retrouve sur Cuba ce matin. ...</td>\n      <td>direct</td>\n    </tr>\n    <tr>\n      <th>1</th>\n      <td>7</td>\n      <td>Is the Hurricane over or is it not over</td>\n      <td>Cyclone nan fini osinon li pa fini</td>\n      <td>direct</td>\n    </tr>\n    <tr>\n      <th>2</th>\n      <td>8</td>\n      <td>Looking for someone but no name</td>\n      <td>Patnm, di Maryani relem pou li banm nouvel li ...</td>\n      <td>direct</td>\n    </tr>\n    <tr>\n      <th>3</th>\n      <td>9</td>\n      <td>UN reports Leogane 80-90 destroyed. Only Hospi...</td>\n      <td>UN reports Leogane 80-90 destroyed. Only Hospi...</td>\n      <td>direct</td>\n    </tr>\n    <tr>\n      <th>4</th>\n      <td>12</td>\n      <td>says: west side of Haiti, rest of the country ...</td>\n      <td>facade ouest d Haiti et le reste du pays aujou...</td>\n      <td>direct</td>\n    </tr>\n  </tbody>\n</table>\n</div>"
     },
     "metadata": {},
     "execution_count": 2
    }
   ],
   "source": [
    "# load messages dataset\n",
    "messages = pd.read_csv('../data/disaster_messages.csv')\n",
    "messages.head()"
   ]
  },
  {
   "cell_type": "code",
   "execution_count": 3,
   "metadata": {},
   "outputs": [
    {
     "output_type": "stream",
     "name": "stdout",
     "text": [
      "<class 'pandas.core.frame.DataFrame'>\nRangeIndex: 26248 entries, 0 to 26247\nData columns (total 4 columns):\n #   Column    Non-Null Count  Dtype \n---  ------    --------------  ----- \n 0   id        26248 non-null  int64 \n 1   message   26248 non-null  object\n 2   original  10184 non-null  object\n 3   genre     26248 non-null  object\ndtypes: int64(1), object(3)\nmemory usage: 820.4+ KB\n"
     ]
    }
   ],
   "source": [
    "messages.info()"
   ]
  },
  {
   "cell_type": "code",
   "execution_count": 4,
   "metadata": {},
   "outputs": [
    {
     "output_type": "execute_result",
     "data": {
      "text/plain": [
       "   id                                         categories\n",
       "0   2  related-1;request-0;offer-0;aid_related-0;medi...\n",
       "1   7  related-1;request-0;offer-0;aid_related-1;medi...\n",
       "2   8  related-1;request-0;offer-0;aid_related-0;medi...\n",
       "3   9  related-1;request-1;offer-0;aid_related-1;medi...\n",
       "4  12  related-1;request-0;offer-0;aid_related-0;medi..."
      ],
      "text/html": "<div>\n<style scoped>\n    .dataframe tbody tr th:only-of-type {\n        vertical-align: middle;\n    }\n\n    .dataframe tbody tr th {\n        vertical-align: top;\n    }\n\n    .dataframe thead th {\n        text-align: right;\n    }\n</style>\n<table border=\"1\" class=\"dataframe\">\n  <thead>\n    <tr style=\"text-align: right;\">\n      <th></th>\n      <th>id</th>\n      <th>categories</th>\n    </tr>\n  </thead>\n  <tbody>\n    <tr>\n      <th>0</th>\n      <td>2</td>\n      <td>related-1;request-0;offer-0;aid_related-0;medi...</td>\n    </tr>\n    <tr>\n      <th>1</th>\n      <td>7</td>\n      <td>related-1;request-0;offer-0;aid_related-1;medi...</td>\n    </tr>\n    <tr>\n      <th>2</th>\n      <td>8</td>\n      <td>related-1;request-0;offer-0;aid_related-0;medi...</td>\n    </tr>\n    <tr>\n      <th>3</th>\n      <td>9</td>\n      <td>related-1;request-1;offer-0;aid_related-1;medi...</td>\n    </tr>\n    <tr>\n      <th>4</th>\n      <td>12</td>\n      <td>related-1;request-0;offer-0;aid_related-0;medi...</td>\n    </tr>\n  </tbody>\n</table>\n</div>"
     },
     "metadata": {},
     "execution_count": 4
    }
   ],
   "source": [
    "# load categories dataset\n",
    "categories = pd.read_csv('../data/disaster_categories.csv')\n",
    "categories.head()"
   ]
  },
  {
   "cell_type": "code",
   "execution_count": 5,
   "metadata": {},
   "outputs": [
    {
     "output_type": "stream",
     "name": "stdout",
     "text": [
      "<class 'pandas.core.frame.DataFrame'>\nRangeIndex: 12636 entries, 0 to 12635\nData columns (total 2 columns):\n #   Column      Non-Null Count  Dtype \n---  ------      --------------  ----- \n 0   id          12636 non-null  int64 \n 1   categories  12636 non-null  object\ndtypes: int64(1), object(1)\nmemory usage: 197.6+ KB\n"
     ]
    }
   ],
   "source": [
    "categories.info()"
   ]
  },
  {
   "source": [
    "\n",
    "2. Merge datasets."
   ],
   "cell_type": "markdown",
   "metadata": {}
  },
  {
   "cell_type": "code",
   "execution_count": 8,
   "metadata": {},
   "outputs": [
    {
     "output_type": "execute_result",
     "data": {
      "text/plain": [
       "   id                                            message  \\\n",
       "0   2  Weather update - a cold front from Cuba that c...   \n",
       "1   7            Is the Hurricane over or is it not over   \n",
       "2   8                    Looking for someone but no name   \n",
       "3   9  UN reports Leogane 80-90 destroyed. Only Hospi...   \n",
       "4  12  says: west side of Haiti, rest of the country ...   \n",
       "\n",
       "                                            original   genre  \\\n",
       "0  Un front froid se retrouve sur Cuba ce matin. ...  direct   \n",
       "1                 Cyclone nan fini osinon li pa fini  direct   \n",
       "2  Patnm, di Maryani relem pou li banm nouvel li ...  direct   \n",
       "3  UN reports Leogane 80-90 destroyed. Only Hospi...  direct   \n",
       "4  facade ouest d Haiti et le reste du pays aujou...  direct   \n",
       "\n",
       "                                          categories  \n",
       "0  related-1;request-0;offer-0;aid_related-0;medi...  \n",
       "1  related-1;request-0;offer-0;aid_related-1;medi...  \n",
       "2  related-1;request-0;offer-0;aid_related-0;medi...  \n",
       "3  related-1;request-1;offer-0;aid_related-1;medi...  \n",
       "4  related-1;request-0;offer-0;aid_related-0;medi...  "
      ],
      "text/html": "<div>\n<style scoped>\n    .dataframe tbody tr th:only-of-type {\n        vertical-align: middle;\n    }\n\n    .dataframe tbody tr th {\n        vertical-align: top;\n    }\n\n    .dataframe thead th {\n        text-align: right;\n    }\n</style>\n<table border=\"1\" class=\"dataframe\">\n  <thead>\n    <tr style=\"text-align: right;\">\n      <th></th>\n      <th>id</th>\n      <th>message</th>\n      <th>original</th>\n      <th>genre</th>\n      <th>categories</th>\n    </tr>\n  </thead>\n  <tbody>\n    <tr>\n      <th>0</th>\n      <td>2</td>\n      <td>Weather update - a cold front from Cuba that c...</td>\n      <td>Un front froid se retrouve sur Cuba ce matin. ...</td>\n      <td>direct</td>\n      <td>related-1;request-0;offer-0;aid_related-0;medi...</td>\n    </tr>\n    <tr>\n      <th>1</th>\n      <td>7</td>\n      <td>Is the Hurricane over or is it not over</td>\n      <td>Cyclone nan fini osinon li pa fini</td>\n      <td>direct</td>\n      <td>related-1;request-0;offer-0;aid_related-1;medi...</td>\n    </tr>\n    <tr>\n      <th>2</th>\n      <td>8</td>\n      <td>Looking for someone but no name</td>\n      <td>Patnm, di Maryani relem pou li banm nouvel li ...</td>\n      <td>direct</td>\n      <td>related-1;request-0;offer-0;aid_related-0;medi...</td>\n    </tr>\n    <tr>\n      <th>3</th>\n      <td>9</td>\n      <td>UN reports Leogane 80-90 destroyed. Only Hospi...</td>\n      <td>UN reports Leogane 80-90 destroyed. Only Hospi...</td>\n      <td>direct</td>\n      <td>related-1;request-1;offer-0;aid_related-1;medi...</td>\n    </tr>\n    <tr>\n      <th>4</th>\n      <td>12</td>\n      <td>says: west side of Haiti, rest of the country ...</td>\n      <td>facade ouest d Haiti et le reste du pays aujou...</td>\n      <td>direct</td>\n      <td>related-1;request-0;offer-0;aid_related-0;medi...</td>\n    </tr>\n  </tbody>\n</table>\n</div>"
     },
     "metadata": {},
     "execution_count": 8
    }
   ],
   "source": [
    "# merge datasets\n",
    "df = messages.merge(categories, on='id')\n",
    "df.head()"
   ]
  },
  {
   "cell_type": "code",
   "execution_count": 9,
   "metadata": {},
   "outputs": [
    {
     "output_type": "stream",
     "name": "stdout",
     "text": [
      "<class 'pandas.core.frame.DataFrame'>\nInt64Index: 12710 entries, 0 to 12709\nData columns (total 5 columns):\n #   Column      Non-Null Count  Dtype \n---  ------      --------------  ----- \n 0   id          12710 non-null  int64 \n 1   message     12710 non-null  object\n 2   original    10246 non-null  object\n 3   genre       12710 non-null  object\n 4   categories  12710 non-null  object\ndtypes: int64(1), object(4)\nmemory usage: 595.8+ KB\n"
     ]
    }
   ],
   "source": [
    "\n",
    "df.info()"
   ]
  },
  {
   "source": [
    "Why are there more entries after merging? Are there duplicates?"
   ],
   "cell_type": "markdown",
   "metadata": {}
  },
  {
   "cell_type": "code",
   "execution_count": 10,
   "metadata": {},
   "outputs": [
    {
     "output_type": "execute_result",
     "data": {
      "text/plain": [
       "90"
      ]
     },
     "metadata": {},
     "execution_count": 10
    }
   ],
   "source": [
    "df.duplicated().sum()"
   ]
  },
  {
   "source": [
    "3. Split categories into separate category columns."
   ],
   "cell_type": "markdown",
   "metadata": {}
  },
  {
   "cell_type": "code",
   "execution_count": 11,
   "metadata": {},
   "outputs": [
    {
     "output_type": "execute_result",
     "data": {
      "text/plain": [
       "          id                                         categories\n",
       "0          2  related-1;request-0;offer-0;aid_related-0;medi...\n",
       "1          7  related-1;request-0;offer-0;aid_related-1;medi...\n",
       "2          8  related-1;request-0;offer-0;aid_related-0;medi...\n",
       "3          9  related-1;request-1;offer-0;aid_related-1;medi...\n",
       "4         12  related-1;request-0;offer-0;aid_related-0;medi...\n",
       "...      ...                                                ...\n",
       "12631  15003  related-1;request-0;offer-0;aid_related-1;medi...\n",
       "12632  15005  related-1;request-0;offer-0;aid_related-1;medi...\n",
       "12633  15006  related-1;request-0;offer-0;aid_related-0;medi...\n",
       "12634  15009  related-1;request-0;offer-0;aid_related-0;medi...\n",
       "12635  15010  related-1;request-0;offer-0;aid_related-0;medi...\n",
       "\n",
       "[12636 rows x 2 columns]"
      ],
      "text/html": "<div>\n<style scoped>\n    .dataframe tbody tr th:only-of-type {\n        vertical-align: middle;\n    }\n\n    .dataframe tbody tr th {\n        vertical-align: top;\n    }\n\n    .dataframe thead th {\n        text-align: right;\n    }\n</style>\n<table border=\"1\" class=\"dataframe\">\n  <thead>\n    <tr style=\"text-align: right;\">\n      <th></th>\n      <th>id</th>\n      <th>categories</th>\n    </tr>\n  </thead>\n  <tbody>\n    <tr>\n      <th>0</th>\n      <td>2</td>\n      <td>related-1;request-0;offer-0;aid_related-0;medi...</td>\n    </tr>\n    <tr>\n      <th>1</th>\n      <td>7</td>\n      <td>related-1;request-0;offer-0;aid_related-1;medi...</td>\n    </tr>\n    <tr>\n      <th>2</th>\n      <td>8</td>\n      <td>related-1;request-0;offer-0;aid_related-0;medi...</td>\n    </tr>\n    <tr>\n      <th>3</th>\n      <td>9</td>\n      <td>related-1;request-1;offer-0;aid_related-1;medi...</td>\n    </tr>\n    <tr>\n      <th>4</th>\n      <td>12</td>\n      <td>related-1;request-0;offer-0;aid_related-0;medi...</td>\n    </tr>\n    <tr>\n      <th>...</th>\n      <td>...</td>\n      <td>...</td>\n    </tr>\n    <tr>\n      <th>12631</th>\n      <td>15003</td>\n      <td>related-1;request-0;offer-0;aid_related-1;medi...</td>\n    </tr>\n    <tr>\n      <th>12632</th>\n      <td>15005</td>\n      <td>related-1;request-0;offer-0;aid_related-1;medi...</td>\n    </tr>\n    <tr>\n      <th>12633</th>\n      <td>15006</td>\n      <td>related-1;request-0;offer-0;aid_related-0;medi...</td>\n    </tr>\n    <tr>\n      <th>12634</th>\n      <td>15009</td>\n      <td>related-1;request-0;offer-0;aid_related-0;medi...</td>\n    </tr>\n    <tr>\n      <th>12635</th>\n      <td>15010</td>\n      <td>related-1;request-0;offer-0;aid_related-0;medi...</td>\n    </tr>\n  </tbody>\n</table>\n<p>12636 rows × 2 columns</p>\n</div>"
     },
     "metadata": {},
     "execution_count": 11
    }
   ],
   "source": [
    "categories"
   ]
  },
  {
   "cell_type": "code",
   "execution_count": 12,
   "metadata": {},
   "outputs": [
    {
     "output_type": "execute_result",
     "data": {
      "text/plain": [
       "0    related    request    offer    aid_related    medical_help  \\\n",
       "0  related-1  request-0  offer-0  aid_related-0  medical_help-0   \n",
       "1  related-1  request-0  offer-0  aid_related-1  medical_help-0   \n",
       "2  related-1  request-0  offer-0  aid_related-0  medical_help-0   \n",
       "3  related-1  request-1  offer-0  aid_related-1  medical_help-0   \n",
       "4  related-1  request-0  offer-0  aid_related-0  medical_help-0   \n",
       "\n",
       "0    medical_products    search_and_rescue    security    military  \\\n",
       "0  medical_products-0  search_and_rescue-0  security-0  military-0   \n",
       "1  medical_products-0  search_and_rescue-0  security-0  military-0   \n",
       "2  medical_products-0  search_and_rescue-0  security-0  military-0   \n",
       "3  medical_products-1  search_and_rescue-0  security-0  military-0   \n",
       "4  medical_products-0  search_and_rescue-0  security-0  military-0   \n",
       "\n",
       "0    child_alone  ...    aid_centers    other_infrastructure  \\\n",
       "0  child_alone-0  ...  aid_centers-0  other_infrastructure-0   \n",
       "1  child_alone-0  ...  aid_centers-0  other_infrastructure-0   \n",
       "2  child_alone-0  ...  aid_centers-0  other_infrastructure-0   \n",
       "3  child_alone-0  ...  aid_centers-0  other_infrastructure-0   \n",
       "4  child_alone-0  ...  aid_centers-0  other_infrastructure-0   \n",
       "\n",
       "0    weather_related    floods    storm    fire    earthquake    cold  \\\n",
       "0  weather_related-0  floods-0  storm-0  fire-0  earthquake-0  cold-0   \n",
       "1  weather_related-1  floods-0  storm-1  fire-0  earthquake-0  cold-0   \n",
       "2  weather_related-0  floods-0  storm-0  fire-0  earthquake-0  cold-0   \n",
       "3  weather_related-0  floods-0  storm-0  fire-0  earthquake-0  cold-0   \n",
       "4  weather_related-0  floods-0  storm-0  fire-0  earthquake-0  cold-0   \n",
       "\n",
       "0    other_weather    direct_report  \n",
       "0  other_weather-0  direct_report-0  \n",
       "1  other_weather-0  direct_report-0  \n",
       "2  other_weather-0  direct_report-0  \n",
       "3  other_weather-0  direct_report-0  \n",
       "4  other_weather-0  direct_report-0  \n",
       "\n",
       "[5 rows x 36 columns]"
      ],
      "text/html": "<div>\n<style scoped>\n    .dataframe tbody tr th:only-of-type {\n        vertical-align: middle;\n    }\n\n    .dataframe tbody tr th {\n        vertical-align: top;\n    }\n\n    .dataframe thead th {\n        text-align: right;\n    }\n</style>\n<table border=\"1\" class=\"dataframe\">\n  <thead>\n    <tr style=\"text-align: right;\">\n      <th></th>\n      <th>related</th>\n      <th>request</th>\n      <th>offer</th>\n      <th>aid_related</th>\n      <th>medical_help</th>\n      <th>medical_products</th>\n      <th>search_and_rescue</th>\n      <th>security</th>\n      <th>military</th>\n      <th>child_alone</th>\n      <th>...</th>\n      <th>aid_centers</th>\n      <th>other_infrastructure</th>\n      <th>weather_related</th>\n      <th>floods</th>\n      <th>storm</th>\n      <th>fire</th>\n      <th>earthquake</th>\n      <th>cold</th>\n      <th>other_weather</th>\n      <th>direct_report</th>\n    </tr>\n  </thead>\n  <tbody>\n    <tr>\n      <th>0</th>\n      <td>related-1</td>\n      <td>request-0</td>\n      <td>offer-0</td>\n      <td>aid_related-0</td>\n      <td>medical_help-0</td>\n      <td>medical_products-0</td>\n      <td>search_and_rescue-0</td>\n      <td>security-0</td>\n      <td>military-0</td>\n      <td>child_alone-0</td>\n      <td>...</td>\n      <td>aid_centers-0</td>\n      <td>other_infrastructure-0</td>\n      <td>weather_related-0</td>\n      <td>floods-0</td>\n      <td>storm-0</td>\n      <td>fire-0</td>\n      <td>earthquake-0</td>\n      <td>cold-0</td>\n      <td>other_weather-0</td>\n      <td>direct_report-0</td>\n    </tr>\n    <tr>\n      <th>1</th>\n      <td>related-1</td>\n      <td>request-0</td>\n      <td>offer-0</td>\n      <td>aid_related-1</td>\n      <td>medical_help-0</td>\n      <td>medical_products-0</td>\n      <td>search_and_rescue-0</td>\n      <td>security-0</td>\n      <td>military-0</td>\n      <td>child_alone-0</td>\n      <td>...</td>\n      <td>aid_centers-0</td>\n      <td>other_infrastructure-0</td>\n      <td>weather_related-1</td>\n      <td>floods-0</td>\n      <td>storm-1</td>\n      <td>fire-0</td>\n      <td>earthquake-0</td>\n      <td>cold-0</td>\n      <td>other_weather-0</td>\n      <td>direct_report-0</td>\n    </tr>\n    <tr>\n      <th>2</th>\n      <td>related-1</td>\n      <td>request-0</td>\n      <td>offer-0</td>\n      <td>aid_related-0</td>\n      <td>medical_help-0</td>\n      <td>medical_products-0</td>\n      <td>search_and_rescue-0</td>\n      <td>security-0</td>\n      <td>military-0</td>\n      <td>child_alone-0</td>\n      <td>...</td>\n      <td>aid_centers-0</td>\n      <td>other_infrastructure-0</td>\n      <td>weather_related-0</td>\n      <td>floods-0</td>\n      <td>storm-0</td>\n      <td>fire-0</td>\n      <td>earthquake-0</td>\n      <td>cold-0</td>\n      <td>other_weather-0</td>\n      <td>direct_report-0</td>\n    </tr>\n    <tr>\n      <th>3</th>\n      <td>related-1</td>\n      <td>request-1</td>\n      <td>offer-0</td>\n      <td>aid_related-1</td>\n      <td>medical_help-0</td>\n      <td>medical_products-1</td>\n      <td>search_and_rescue-0</td>\n      <td>security-0</td>\n      <td>military-0</td>\n      <td>child_alone-0</td>\n      <td>...</td>\n      <td>aid_centers-0</td>\n      <td>other_infrastructure-0</td>\n      <td>weather_related-0</td>\n      <td>floods-0</td>\n      <td>storm-0</td>\n      <td>fire-0</td>\n      <td>earthquake-0</td>\n      <td>cold-0</td>\n      <td>other_weather-0</td>\n      <td>direct_report-0</td>\n    </tr>\n    <tr>\n      <th>4</th>\n      <td>related-1</td>\n      <td>request-0</td>\n      <td>offer-0</td>\n      <td>aid_related-0</td>\n      <td>medical_help-0</td>\n      <td>medical_products-0</td>\n      <td>search_and_rescue-0</td>\n      <td>security-0</td>\n      <td>military-0</td>\n      <td>child_alone-0</td>\n      <td>...</td>\n      <td>aid_centers-0</td>\n      <td>other_infrastructure-0</td>\n      <td>weather_related-0</td>\n      <td>floods-0</td>\n      <td>storm-0</td>\n      <td>fire-0</td>\n      <td>earthquake-0</td>\n      <td>cold-0</td>\n      <td>other_weather-0</td>\n      <td>direct_report-0</td>\n    </tr>\n  </tbody>\n</table>\n<p>5 rows × 36 columns</p>\n</div>"
     },
     "metadata": {},
     "execution_count": 12
    }
   ],
   "source": [
    "# create a dataframe of the 36 individual category columns\n",
    "categories = categories['categories'].str.split(';', expand = True)\n",
    "cols = categories.iloc[0].str.split('-').str[0]\n",
    "categories.columns = cols\n",
    "categories.head()"
   ]
  },
  {
   "cell_type": "code",
   "execution_count": null,
   "metadata": {},
   "outputs": [],
   "source": []
  }
 ]
}